{
  "nbformat": 4,
  "nbformat_minor": 0,
  "metadata": {
    "colab": {
      "provenance": []
    },
    "kernelspec": {
      "name": "python3",
      "display_name": "Python 3"
    },
    "language_info": {
      "name": "python"
    }
  },
  "cells": [
    {
      "cell_type": "code",
      "execution_count": 1,
      "metadata": {
        "id": "btSfuXULlXko"
      },
      "outputs": [],
      "source": [
        "import os\n",
        "import google.generativeai as genai\n",
        "from google.colab import userdata\n",
        "API_KEY=userdata.get('GOOGLE_API_KEY')"
      ]
    },
    {
      "cell_type": "code",
      "source": [
        "import typing_extensions as typing\n",
        "import google.generativeai as genai\n",
        "import os\n",
        "genai.configure(api_key=API_KEY)\n"
      ],
      "metadata": {
        "id": "GHJ4oOdhYa_4"
      },
      "execution_count": 2,
      "outputs": []
    },
    {
      "cell_type": "code",
      "source": [
        "model = genai.GenerativeModel(\"gemini-1.5-flash\")\n",
        "prompt = \"\"\"List a few popular cookie recipes in JSON format.\n",
        "\n",
        "Use this JSON schema:\n",
        "\n",
        "Recipe = {'recipe_name': str, 'ingredients': list[str]}\n",
        "Return: list[Recipe]\"\"\"\n",
        "result = model.generate_content(prompt)\n",
        "print(result.text)"
      ],
      "metadata": {
        "colab": {
          "base_uri": "https://localhost:8080/",
          "height": 1000
        },
        "id": "pO0q1_irV91K",
        "outputId": "c4f0e6ad-62ec-4a30-9943-7ddda9293a30"
      },
      "execution_count": 3,
      "outputs": [
        {
          "output_type": "stream",
          "name": "stdout",
          "text": [
            "```json\n",
            "[\n",
            "  {\n",
            "    \"recipe_name\": \"Chocolate Chip Cookies\",\n",
            "    \"ingredients\": [\n",
            "      \"1 cup (2 sticks) unsalted butter, softened\",\n",
            "      \"3/4 cup granulated sugar\",\n",
            "      \"3/4 cup packed brown sugar\",\n",
            "      \"2 large eggs\",\n",
            "      \"2 teaspoons pure vanilla extract\",\n",
            "      \"2 1/4 cups all-purpose flour\",\n",
            "      \"1 teaspoon baking soda\",\n",
            "      \"1 teaspoon salt\",\n",
            "      \"2 cups chocolate chips\"\n",
            "    ]\n",
            "  },\n",
            "  {\n",
            "    \"recipe_name\": \"Oatmeal Raisin Cookies\",\n",
            "    \"ingredients\": [\n",
            "      \"1 cup (2 sticks) unsalted butter, softened\",\n",
            "      \"3/4 cup granulated sugar\",\n",
            "      \"3/4 cup packed brown sugar\",\n",
            "      \"2 large eggs\",\n",
            "      \"2 teaspoons pure vanilla extract\",\n",
            "      \"2 1/4 cups all-purpose flour\",\n",
            "      \"1 teaspoon baking soda\",\n",
            "      \"1 teaspoon salt\",\n",
            "      \"1 cup rolled oats\",\n",
            "      \"1 cup raisins\"\n",
            "    ]\n",
            "  },\n",
            "  {\n",
            "    \"recipe_name\": \"Snickerdoodles\",\n",
            "    \"ingredients\": [\n",
            "      \"1 cup (2 sticks) unsalted butter, softened\",\n",
            "      \"1/2 cup granulated sugar\",\n",
            "      \"1/2 cup packed brown sugar\",\n",
            "      \"2 large eggs\",\n",
            "      \"2 teaspoons pure vanilla extract\",\n",
            "      \"2 1/4 cups all-purpose flour\",\n",
            "      \"1 teaspoon cream of tartar\",\n",
            "      \"1/2 teaspoon salt\",\n",
            "      \"2 tablespoons granulated sugar for rolling\"\n",
            "    ]\n",
            "  },\n",
            "  {\n",
            "    \"recipe_name\": \"Peanut Butter Cookies\",\n",
            "    \"ingredients\": [\n",
            "      \"1 cup (2 sticks) unsalted butter, softened\",\n",
            "      \"1/2 cup granulated sugar\",\n",
            "      \"1/2 cup packed brown sugar\",\n",
            "      \"1 large egg\",\n",
            "      \"1 teaspoon pure vanilla extract\",\n",
            "      \"1 cup creamy peanut butter\",\n",
            "      \"2 cups all-purpose flour\",\n",
            "      \"1 teaspoon baking soda\",\n",
            "      \"1/2 teaspoon salt\"\n",
            "    ]\n",
            "  }\n",
            "]\n",
            "```\n"
          ]
        }
      ]
    },
    {
      "cell_type": "code",
      "source": [
        "class Recipe(typing.TypedDict):\n",
        "    recipe_name: str\n",
        "    ingredients: list[str]\n",
        "\n",
        "model = genai.GenerativeModel(\"gemini-1.5-flash\")\n",
        "result = model.generate_content(\n",
        "    \"List a few popular cookie recipes.\",\n",
        "    generation_config=genai.GenerationConfig(\n",
        "        response_mime_type=\"application/json\", response_schema=list[Recipe]\n",
        "    ),\n",
        ")\n",
        "print(result.text)"
      ],
      "metadata": {
        "colab": {
          "base_uri": "https://localhost:8080/",
          "height": 72
        },
        "id": "mhoxhCJwlgor",
        "outputId": "fa3f1720-7876-4a30-e94c-7669b0830c90"
      },
      "execution_count": 4,
      "outputs": [
        {
          "output_type": "stream",
          "name": "stdout",
          "text": [
            "[{\"ingredients\": [\"1 cup (2 sticks) unsalted butter, softened\", \"1 cup granulated sugar\", \"1 cup packed light brown sugar\", \"2 large eggs\", \"2 teaspoons pure vanilla extract\", \"3 cups all-purpose flour\", \"1 teaspoon baking soda\", \"1 teaspoon salt\", \"1 cup chocolate chips\"], \"recipe_name\": \"Chocolate Chip Cookies\"}, {\"ingredients\": [\"1 cup (2 sticks) unsalted butter, softened\", \"1 cup granulated sugar\", \"1 cup packed light brown sugar\", \"2 large eggs\", \"2 teaspoons pure vanilla extract\", \"3 cups all-purpose flour\", \"1 teaspoon baking soda\", \"1 teaspoon salt\", \"1 cup chopped walnuts\"], \"recipe_name\": \"Chocolate Walnut Cookies\"}, {\"ingredients\": [\"1 cup (2 sticks) unsalted butter, softened\", \"1 cup granulated sugar\", \"1 cup packed light brown sugar\", \"2 large eggs\", \"2 teaspoons pure vanilla extract\", \"3 cups all-purpose flour\", \"1 teaspoon baking soda\", \"1 teaspoon salt\", \"1 cup oats\"], \"recipe_name\": \"Oatmeal Cookies\"}]\n",
            "\n"
          ]
        }
      ]
    },
    {
      "cell_type": "code",
      "source": [
        "class Recipe(typing.TypedDict):\n",
        "    recipe_name: str\n",
        "    ingredients: list[str]\n",
        "\n",
        "\n",
        "model = genai.GenerativeModel(\"gemini-1.5-flash\")\n",
        "result = model.generate_content(\n",
        "    \"\"\"List a few popular cookie recipes in JSON format.\n",
        "       Use this JSON schema:\n",
        "\n",
        "       Recipe = {'recipe_name': str, 'ingredients': list[str]}\n",
        "       Return: list[Recipe]\"\"\",\n",
        "    generation_config=genai.GenerationConfig(\n",
        "        response_mime_type=\"application/json\", response_schema=list[Recipe]\n",
        "    ),\n",
        ")\n",
        "print(result.text)"
      ],
      "metadata": {
        "colab": {
          "base_uri": "https://localhost:8080/",
          "height": 104
        },
        "id": "5lq31nHkoyUg",
        "outputId": "15b99315-0523-485f-85a8-433b568b2b2b"
      },
      "execution_count": 5,
      "outputs": [
        {
          "output_type": "stream",
          "name": "stdout",
          "text": [
            "[{\"recipe_name\": \"Chocolate Chip Cookies\"\n",
            "    }, {\"recipe_name\": \"Peanut Butter Cookies\"\n",
            "    }, {\"recipe_name\": \"Sugar Cookies\"\n",
            "    }, {\"recipe_name\": \"Oatmeal Raisin Cookies\"}]\n",
            "\n"
          ]
        }
      ]
    },
    {
      "cell_type": "code",
      "source": [
        "class Recipe(typing.TypedDict):\n",
        "    recipe_name: str\n",
        "    ingredients: str\n",
        "\n",
        "\n",
        "model = genai.GenerativeModel(\"gemini-1.5-flash\")\n",
        "result = model.generate_content(\n",
        "    \"\"\"List a few popular cookie recipes in JSON format.\n",
        "       Use this JSON schema:\n",
        "\n",
        "       Recipe = {'recipe_name': str, 'ingredients': list[str]}\n",
        "       Return: list[Recipe]\"\"\",\n",
        "    generation_config=genai.GenerationConfig(\n",
        "        response_mime_type=\"application/json\", response_schema=list[Recipe]\n",
        "    ),\n",
        ")\n",
        "print(result.text)"
      ],
      "metadata": {
        "colab": {
          "base_uri": "https://localhost:8080/",
          "height": 121
        },
        "id": "JrRTfZAbbBFL",
        "outputId": "c2156907-a51e-439a-f3bd-cc11fd96c5b9"
      },
      "execution_count": 6,
      "outputs": [
        {
          "output_type": "stream",
          "name": "stdout",
          "text": [
            "[{\"recipe_name\": \"Chocolate Chip Cookies\"  \n",
            "  }, {\"recipe_name\": \"Oatmeal Raisin Cookies\"  \n",
            "  }, {\"recipe_name\": \"Snickerdoodles\"  \n",
            "  }, {\"recipe_name\": \"Peanut Butter Cookies\"  \n",
            "  }, {\"recipe_name\": \"Sugar Cookies\"}]\n",
            "\n"
          ]
        }
      ]
    },
    {
      "cell_type": "code",
      "source": [
        "class Recipe(typing.TypedDict):\n",
        "    recipe_name: str\n",
        "    ingredients: list[str]\n",
        "\n",
        "\n",
        "model = genai.GenerativeModel(\"gemini-1.5-flash\")\n",
        "result = model.generate_content(\n",
        "    \"\"\"List a few popular cookie recipes in JSON format.\n",
        "       Use this JSON schema:\n",
        "\n",
        "       Recipe = {'recipe_name': str, 'ingredients': str}\n",
        "       Return: list[Recipe]\"\"\",\n",
        "    generation_config=genai.GenerationConfig(\n",
        "        response_mime_type=\"application/json\", response_schema=list[Recipe]\n",
        "    ),\n",
        ")\n",
        "print(result.text)"
      ],
      "metadata": {
        "id": "xM6vxIQrlp5o",
        "colab": {
          "base_uri": "https://localhost:8080/",
          "height": 138
        },
        "outputId": "21c2406d-717d-47cd-9d47-32b46297824f"
      },
      "execution_count": 7,
      "outputs": [
        {
          "output_type": "stream",
          "name": "stdout",
          "text": [
            "[{\"recipe_name\": \"Chocolate Chip Cookies\"\n",
            "}, {\"recipe_name\": \"Oatmeal Raisin Cookies\"\n",
            "}, {\"recipe_name\": \"Peanut Butter Cookies\"\n",
            "}, {\"recipe_name\": \"Sugar Cookies\"\n",
            "}, {\"recipe_name\": \"Snickerdoodles\"\n",
            "}]\n",
            "\n"
          ]
        }
      ]
    },
    {
      "cell_type": "code",
      "source": [],
      "metadata": {
        "id": "N9YbldB6fKZk"
      },
      "execution_count": null,
      "outputs": []
    }
  ]
}